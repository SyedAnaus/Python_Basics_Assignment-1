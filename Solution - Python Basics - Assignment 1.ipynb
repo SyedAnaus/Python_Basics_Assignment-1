{
 "cells": [
  {
   "cell_type": "markdown",
   "source": [
    "# Solution to -  Python Basics -  Assignment 1"
   ],
   "metadata": {
    "collapsed": false,
    "pycharm": {
     "name": "#%% md\n"
    }
   }
  },
  {
   "cell_type": "markdown",
   "source": [
    "### Question 1.\n",
    "\n",
    "#### In the below elements which of them are values or an expression? eg. values can be integer or string and expressions will be mathematical operators\n",
    "\n",
    "##### *\n",
    "\n",
    "##### 'hello'\n",
    "\n",
    "##### -87.8\n",
    "\n",
    "##### -\n",
    "\n",
    "##### /\n",
    "\n",
    "##### +\n",
    "\n",
    "##### 6\n"
   ],
   "metadata": {
    "collapsed": false,
    "pycharm": {
     "name": "#%% md\n"
    }
   }
  },
  {
   "cell_type": "raw",
   "source": [
    "* - Is an Expression, And it is a multiplication operator in python.\n",
    "\n",
    "'hello' - Is a value, more specifically a string value, as it is surrounded by single quotation marks.\n",
    "\n",
    "-87.8 - Is a value. A float value, as all numbers with a decimal point are consided a float in python.\n",
    "\n",
    "- - is an expression, and it is a subtraction operator in python.\n",
    "\n",
    "/ - is an expression, and it is a division operator in python.\n",
    "\n",
    "+ - is an expression, and it is a addition operator in python.\n",
    "\n",
    "6 - is a value. An integer value, as all whole numbers are consided integers in python."
   ],
   "metadata": {
    "collapsed": false,
    "pycharm": {
     "name": "#%% raw\n"
    }
   }
  },
  {
   "cell_type": "markdown",
   "source": [
    "### Question 2.\n",
    "\n",
    "### What is the difference between string and variable?"
   ],
   "metadata": {
    "collapsed": false,
    "pycharm": {
     "name": "#%% md\n"
    }
   }
  },
  {
   "cell_type": "markdown",
   "source": [
    "The difference between a variable and a string is:\n",
    "\n",
    "That a string a sequence of characters surrounded by either a single quotation marks,\n",
    "or double quotation marks. And is recognised by the datatype 'string' in python.\n",
    "\n",
    "Eg. \"Hello World\" This is a string, as it is a sequence of characters surrounded by a double quotation marks\n",
    "and the type of type(\"Hello World\") would be string\n",
    "\n",
    "Variable on the other hand are containers for storing data values, and type of variable is considered by the\n",
    "data that is stored inside it.\n",
    "\n",
    "Eg. hello_world = \"Hello World\", hello_world is an example of a variable as it is assigned \"hello world\" to\n",
    "it, and the datatype of type(hello_world) would be a string as the datatype is determined by the value\n",
    "contained inside the variable, in this case, it's \"Hello World\" which is a string.\n"
   ],
   "metadata": {
    "collapsed": false,
    "pycharm": {
     "name": "#%% md\n"
    }
   }
  },
  {
   "cell_type": "markdown",
   "source": [
    "### Question 3.\n",
    "\n",
    "#### Describe three different data types."
   ],
   "metadata": {
    "collapsed": false,
    "pycharm": {
     "name": "#%% md\n"
    }
   }
  },
  {
   "cell_type": "markdown",
   "source": [
    "There are many built-in data types in python, and they do many different things. But for this question\n",
    "I will be explaining and describing 3 of the most commonly used ones:\n",
    "\n",
    "'str'. The 'str' data type is used to tell the string data type in python. Python recognises a string if\n",
    "the characters are surrounded by either single quotation marks, or double quotation marks. Data of the data\n",
    "type string are itertable, and can be used to display text on the console. There are many use cases for the\n",
    "string data type, but the most common one is: To handle textual data. But what is a string? Strings in\n",
    "python are arrays of bytes representing unicode characters. Those characters can be anything for integers to\n",
    "symbols.\n",
    "\n",
    "'int, or integer, is a whole number, positive or negative, without decimals, of unlimited length in python.\n",
    "They are immutable data types, meaning that changing the value of a number data type results in a newly\n",
    "allocated object. They are used to preform  various arithmetic operations, like addition, subtraction,\n",
    "multiplication, and division as well as data manipulation, slicing data, modifying data, and iteration of\n",
    "data...etc.\n",
    "\n",
    "Python boolean type represents one of two values: True or False. Generally, being used to represent the\n",
    "truth values of the expression. For example, 5==5 is True whereas 2<1 is False. We can evaluate values and\n",
    "variables using the Python bool() function. This method is used to return or convert a value to a\n",
    "Boolean value. There isn't much to the boolean data type other than evaluating values, but, is used more\n",
    "often than not."
   ],
   "metadata": {
    "collapsed": false,
    "pycharm": {
     "name": "#%% md\n"
    }
   }
  },
  {
   "cell_type": "markdown",
   "source": [
    "### Question 4\n",
    "\n",
    "#### What is an expression made up of? What do all expressions do?"
   ],
   "metadata": {
    "collapsed": false,
    "pycharm": {
     "name": "#%% md\n"
    }
   }
  },
  {
   "cell_type": "markdown",
   "source": [
    "Expressions, the bases of performing arithmetic operations in python. Operators are special symbols that\n",
    "designate that some sort of computation should be performed, i.e. if the operators is + than python\n",
    "recognizes that the addition operation should be performed. The values that an operator acts on are called\n",
    "operands, i.e, '1+2' the '1' and the '2' in this are the operands and the '+' is the operators, as the\n",
    "operator is acting, in this case adding the two numbers/operands. A sequence of operands and operators,\n",
    "like a + b - 5, is called an expressions. Python supports many operators for combing data objects into\n",
    "expressions, for example, +, -, *, / are the main ones, but there are a bunch of others ones used for\n",
    "different types of operations.\n",
    "\n",
    "What do expressions do have in common? All expression represent values and can be evaluated. You could also see if your code is an expression by\n",
    "evaluating it in the eval() method"
   ],
   "metadata": {
    "collapsed": false,
    "pycharm": {
     "name": "#%% md\n"
    }
   }
  },
  {
   "cell_type": "markdown",
   "source": [
    "### Question 5.\n",
    "\n",
    "#### This assignment statements, like spam = 10. What is the difference between an expression and a statement?"
   ],
   "metadata": {
    "collapsed": false,
    "pycharm": {
     "name": "#%% md\n"
    }
   }
  },
  {
   "cell_type": "raw",
   "source": [
    "The difference between an expression and a statement is that an expression only contains identifiers, literals and operators, where operators include\n",
    "arithmetic and boolean operators. The function call operator() the subscription operator [] and similar, and can be reduced to some kind of \"value\",\n",
    "which can be any Python object. Examples:\n",
    "\n",
    "3 + 5\n",
    "map(lambda x: x*x, range(10)\n",
    "[a.x for a in some iterable]\n",
    "yield 7\n",
    "\n",
    "Statements on the other hand, are everything that can make up a line (or several lines) of Python code. Note that expressions are statements as well.\n",
    "Examples:\n",
    "\n",
    "# all the above expressions\n",
    "\n",
    "print 42\n",
    "if x: do_y()\n",
    "return a = 7\n"
   ],
   "metadata": {
    "collapsed": false,
    "pycharm": {
     "name": "#%% raw\n"
    }
   }
  },
  {
   "cell_type": "markdown",
   "source": [
    "### Questions 6.\n",
    "\n",
    "#### After running the following code, what does the variable bacon contain?\n",
    "\n",
    "##### bacon = 22\n",
    "\n",
    "##### bacon + 1\n"
   ],
   "metadata": {
    "collapsed": false,
    "pycharm": {
     "name": "#%% md\n"
    }
   }
  },
  {
   "cell_type": "markdown",
   "source": [
    "The variable bacon contains 23 after running the code. Why? because we added 1 to bacon which contained 22 and 22 + 1 = 23."
   ],
   "metadata": {
    "collapsed": false,
    "pycharm": {
     "name": "#%% md\n"
    }
   }
  },
  {
   "cell_type": "markdown",
   "source": [
    "### Question 7\n",
    "\n",
    "#### What should the values of the following two terms be?\n",
    "\n",
    "##### 'spam' + 'spamspam'\n",
    "\n",
    "##### 'spam' * 3"
   ],
   "metadata": {
    "collapsed": false,
    "pycharm": {
     "name": "#%% md\n"
    }
   }
  },
  {
   "cell_type": "markdown",
   "source": [
    "The values of the following two terms will be 'spamspamspam'. In the first term we are adding 'spam' with 'spamspam', in python if you add a string\n",
    "with a string it makes a new string with the two strings combined, that is way we see the result as 'spamspamspam'. As for the second term, we are\n",
    "multiplying 3 to 'spam', in python if we multiply a string by an integer, python returns a new string which is the original string, repeated x number\n",
    "of times(where x is the value of integer). That is why we see the result as 'spamspamspam'."
   ],
   "metadata": {
    "collapsed": false,
    "pycharm": {
     "name": "#%% md\n"
    }
   }
  },
  {
   "cell_type": "markdown",
   "source": [
    "### Question 8.\n",
    "\n",
    "#### Why is eggs a valid variable name while 100 is invalid?"
   ],
   "metadata": {
    "collapsed": false,
    "pycharm": {
     "name": "#%% md\n"
    }
   }
  },
  {
   "cell_type": "markdown",
   "source": [
    "When declaring/defining a variable in most languages, you most likely first write the type than write the variable name and finally assign the value\n",
    "to the variable name. This is how it's done in most languages, but not python. In python, you don't need to define the type, you just create a\n",
    "variable and assign a value to it, notice I didn't say declare, that's because, python does not have a command for declaring a variable, you just\n",
    "create a variable the moment you first assign a value to it. In c,(I am using c as an example as most of the languages are driven for it, but this\n",
    "could apply to many languages) you first have to declare a type than so on, but why the type. Well in c, that's because the type specifies the size\n",
    "and layout of the variable's memory; the range of values that can be stored within that memory; and the set of operations that can be applied to the\n",
    "variables. But this allows you to do another thing in c, you can also define the variable name as digits, which you can't do in python. You see, in\n",
    "c, the type specifies the data type held within the variable, in python this is done automatically. But, what does this got to do with why eggs are a\n",
    "valid variable name while 100 is invalid? This had to do with the fact that, because in python you don't need to define the type, but if you don't\n",
    "define the type how will the interpreter/compiler know what data type the value is? well because it determines which data type its form. But in c, it\n",
    "doesn't have to do that because we are already letting it know what data type it's going to be. So that means if we try to assign anything to 100 it\n",
    "will mistake the 100 for an int rather than an integer, giving us an error, which is not the case in c. For why the egg is a valid variable name, that\n",
    "because characters aren't a data type in python but in c they are so that's why you have to say the type before declaring a variable.\n"
   ],
   "metadata": {
    "collapsed": false,
    "pycharm": {
     "name": "#%% md\n"
    }
   }
  },
  {
   "cell_type": "markdown",
   "source": [
    "### Question 9.\n",
    "\n",
    "#### What three functions can be used to get the integer, floating-point number, or string version of a value?"
   ],
   "metadata": {
    "collapsed": false,
    "pycharm": {
     "name": "#%% md\n"
    }
   }
  },
  {
   "cell_type": "markdown",
   "source": [
    "The function that can be used to get the integer version of a value is the int() method.\n",
    "The function that can be used to get the floating-point version of a value is the float() method.\n",
    "The function that can be used to get the string version of a value is the str() method."
   ],
   "metadata": {
    "collapsed": false,
    "pycharm": {
     "name": "#%% md\n"
    }
   }
  },
  {
   "cell_type": "markdown",
   "source": [
    "### Question 10.\n",
    "\n",
    "#### Why does this expression cause an error? How can you fix it?\n",
    "\n",
    "##### 'I have eaten ' + 99 + ' burritos.'"
   ],
   "metadata": {
    "collapsed": false,
    "pycharm": {
     "name": "#%% md\n"
    }
   }
  },
  {
   "cell_type": "markdown",
   "source": [
    "This expression causes an error because you can't add an integer to a string in python as you are doing here, 'I have eaten ' + 99 + ' burritos.'\n",
    "We can fix this error by surrounding 99 in single or double quotes so it is considered as a string, we can add strings together in python:\n",
    "'I have eaten ' + '99' + ' burritos'."
   ],
   "metadata": {
    "collapsed": false,
    "pycharm": {
     "name": "#%% md\n"
    }
   }
  },
  {
   "cell_type": "code",
   "execution_count": null,
   "outputs": [],
   "source": [],
   "metadata": {
    "collapsed": false,
    "pycharm": {
     "name": "#%%\n"
    }
   }
  }
 ],
 "metadata": {
  "kernelspec": {
   "display_name": "Python 3",
   "language": "python",
   "name": "python3"
  },
  "language_info": {
   "codemirror_mode": {
    "name": "ipython",
    "version": 2
   },
   "file_extension": ".py",
   "mimetype": "text/x-python",
   "name": "python",
   "nbconvert_exporter": "python",
   "pygments_lexer": "ipython2",
   "version": "2.7.6"
  }
 },
 "nbformat": 4,
 "nbformat_minor": 0
}